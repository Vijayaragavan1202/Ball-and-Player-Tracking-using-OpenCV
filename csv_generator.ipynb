{
 "cells": [
  {
   "cell_type": "code",
   "execution_count": 1,
   "id": "85214b8c-0709-4b71-9f2e-fd7749ac734d",
   "metadata": {},
   "outputs": [],
   "source": [
    "import csv\n",
    "\n",
    "class csv_gen:\n",
    "    def __init__(self, csv_path):\n",
    "        self.csv_file = open(csv_path, mode='w', newline='')\n",
    "        self.csv_writer = csv.writer(self.csv_file)\n",
    "        self.csv_writer.writerow(['frame', 'player_id', 'x_center', 'y_center'])\n",
    "    \n",
    "    def log_player(self, frame_idx, player_id, x_center, y_center):\n",
    "        self.csv_writer.writerow([frame_idx, player_id, x_center, y_center])\n",
    "    \n",
    "    def close(self):\n",
    "        self.csv_file.close()"
   ]
  }
 ],
 "metadata": {
  "kernelspec": {
   "display_name": "Python 3 (ipykernel)",
   "language": "python",
   "name": "python3"
  },
  "language_info": {
   "codemirror_mode": {
    "name": "ipython",
    "version": 3
   },
   "file_extension": ".py",
   "mimetype": "text/x-python",
   "name": "python",
   "nbconvert_exporter": "python",
   "pygments_lexer": "ipython3",
   "version": "3.12.2"
  }
 },
 "nbformat": 4,
 "nbformat_minor": 5
}
